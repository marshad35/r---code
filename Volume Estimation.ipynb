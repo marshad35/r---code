{
 "cells": [
  {
   "cell_type": "markdown",
   "id": "e0080eca-6c61-40fd-a05b-ccd315ca7c01",
   "metadata": {},
   "source": [
    "## Assignment 2"
   ]
  },
  {
   "cell_type": "markdown",
   "id": "62b230f3-beda-4f3b-8782-cfaf4eab8b2e",
   "metadata": {},
   "source": [
    "# 1. Sampling from Uniform[-1,1]"
   ]
  },
  {
   "cell_type": "code",
   "execution_count": 50,
   "id": "a5290623-9d5d-47ed-9736-4292a0b87a19",
   "metadata": {},
   "outputs": [],
   "source": [
    "phi.ball <- function( x ){ # actually a simplex\n",
    "    \n",
    "\n",
    "\n",
    "  return( sum(x*x)<=1 );\n",
    "    \n",
    "}"
   ]
  },
  {
   "cell_type": "code",
   "execution_count": 343,
   "id": "5b13cee2-1764-40a6-a708-97b284237002",
   "metadata": {},
   "outputs": [],
   "source": [
    "## Run the Monte Carlo method\n",
    "## nn points \n",
    "## with phi a boolean function \n",
    "\n",
    "vol_monteCarlo <- function( \n",
    "  nn=500, dd=4, phi, PLOT_GRID=F \n",
    "){\n",
    "  # generate nn * dd uniform random variables\n",
    "  mcGrid <- matrix(\n",
    "    runif( nn*dd,0,1 ), nrow=nn, ncol=dd \n",
    "  );\n",
    "  \n",
    "  # Apply phi to each row in mcGrid\n",
    "  # to determine if the point is in region D\n",
    "  inRegion <- apply( mcGrid, 1, phi )\n",
    "  \n",
    "    \n",
    "  est = sum(inRegion)/nn;\n",
    "  return( \n",
    "    c( \n",
    "      est*2^dd,                 # estimate for vol(D)\n",
    "      est*(1-est)/(nn-1)   # estimate variance\n",
    "    )\n",
    "  )\n",
    "}\n",
    "\n",
    "\n",
    "vol_compConfInt <- function( est, vari, nn, alf ){\n",
    "  norm = c(est - qnorm(1-alf/2)*sqrt(vari), est, est + qnorm(1-alf/2)*sqrt(vari) )\n",
    "  cheb = c(est - sqrt(4*nn*alf)^(-1), est, est + sqrt(4*nn*alf)^(-1) )\n",
    "  hoef = c(est - sqrt(-log(alf/2)/(2*nn)), est, est + sqrt(-log(alf/2)/(2*nn)) )\n",
    "  return(\n",
    "    rbind( norm,cheb,hoef )\n",
    "  )}\n"
   ]
  },
  {
   "cell_type": "code",
   "execution_count": 344,
   "id": "763e6153-1feb-4de5-96b0-9db765cdae02",
   "metadata": {},
   "outputs": [
    {
     "name": "stdout",
     "output_type": "stream",
     "text": [
      "[1] \"Est  volume =  4.91288888888889\"\n",
      "[1] \"True volume =  4.93480220054468\"\n",
      "[1] \"Variance =  5.91050977410552e-06\"\n"
     ]
    },
    {
     "data": {
      "text/html": [
       "<table class=\"dataframe\">\n",
       "<caption>A matrix: 3 × 3 of type dbl</caption>\n",
       "<tbody>\n",
       "\t<tr><th scope=row>norm</th><td>4.908124</td><td>4.912889</td><td>4.917654</td></tr>\n",
       "\t<tr><th scope=row>cheb</th><td>4.901104</td><td>4.912889</td><td>4.924674</td></tr>\n",
       "\t<tr><th scope=row>hoef</th><td>4.905731</td><td>4.912889</td><td>4.920047</td></tr>\n",
       "</tbody>\n",
       "</table>\n"
      ],
      "text/latex": [
       "A matrix: 3 × 3 of type dbl\n",
       "\\begin{tabular}{r|lll}\n",
       "\tnorm & 4.908124 & 4.912889 & 4.917654\\\\\n",
       "\tcheb & 4.901104 & 4.912889 & 4.924674\\\\\n",
       "\thoef & 4.905731 & 4.912889 & 4.920047\\\\\n",
       "\\end{tabular}\n"
      ],
      "text/markdown": [
       "\n",
       "A matrix: 3 × 3 of type dbl\n",
       "\n",
       "| norm | 4.908124 | 4.912889 | 4.917654 |\n",
       "| cheb | 4.901104 | 4.912889 | 4.924674 |\n",
       "| hoef | 4.905731 | 4.912889 | 4.920047 |\n",
       "\n"
      ],
      "text/plain": [
       "     [,1]     [,2]     [,3]    \n",
       "norm 4.908124 4.912889 4.917654\n",
       "cheb 4.901104 4.912889 4.924674\n",
       "hoef 4.905731 4.912889 4.920047"
      ]
     },
     "metadata": {},
     "output_type": "display_data"
    }
   ],
   "source": [
    "# Try nn = 3600 and dimensions = 4\n",
    "nn = 36000\n",
    "\n",
    "out = vol_monteCarlo( nn=nn, dd=4, phi=phi.ball, PLOT_GRID = T )\n",
    "print(paste(\"Est  volume = \",out[1]))\n",
    "print(paste(\"True volume = \",(pi^2)/2))\n",
    "print(paste(\"Variance = \",out[2]))\n",
    "vol_compConfInt( out[1], out[2], nn, 0.05 )"
   ]
  },
  {
   "cell_type": "code",
   "execution_count": 25,
   "id": "8fa36878-45cb-4372-9cd5-a4bf9a9cd2e0",
   "metadata": {},
   "outputs": [
    {
     "name": "stdout",
     "output_type": "stream",
     "text": [
      "[1] \"Est  volume =  2.58844444444444\"\n",
      "[1] \"True volume =  2.55016404\"\n",
      "[1] \"Variance =  7.00405043830093e-08\"\n"
     ]
    },
    {
     "data": {
      "text/html": [
       "<table class=\"dataframe\">\n",
       "<caption>A matrix: 3 × 3 of type dbl</caption>\n",
       "<tbody>\n",
       "\t<tr><th scope=row>norm</th><td>2.587926</td><td>2.588444</td><td>2.588963</td></tr>\n",
       "\t<tr><th scope=row>cheb</th><td>2.576659</td><td>2.588444</td><td>2.600230</td></tr>\n",
       "\t<tr><th scope=row>hoef</th><td>2.581287</td><td>2.588444</td><td>2.595602</td></tr>\n",
       "</tbody>\n",
       "</table>\n"
      ],
      "text/latex": [
       "A matrix: 3 × 3 of type dbl\n",
       "\\begin{tabular}{r|lll}\n",
       "\tnorm & 2.587926 & 2.588444 & 2.588963\\\\\n",
       "\tcheb & 2.576659 & 2.588444 & 2.600230\\\\\n",
       "\thoef & 2.581287 & 2.588444 & 2.595602\\\\\n",
       "\\end{tabular}\n"
      ],
      "text/markdown": [
       "\n",
       "A matrix: 3 × 3 of type dbl\n",
       "\n",
       "| norm | 2.587926 | 2.588444 | 2.588963 |\n",
       "| cheb | 2.576659 | 2.588444 | 2.600230 |\n",
       "| hoef | 2.581287 | 2.588444 | 2.595602 |\n",
       "\n"
      ],
      "text/plain": [
       "     [,1]     [,2]     [,3]    \n",
       "norm 2.587926 2.588444 2.588963\n",
       "cheb 2.576659 2.588444 2.600230\n",
       "hoef 2.581287 2.588444 2.595602"
      ]
     },
     "metadata": {},
     "output_type": "display_data"
    }
   ],
   "source": [
    "# Try nn = 3600 and dimensions = 10\n",
    "nn = 36000\n",
    "\n",
    "out = vol_monteCarlo( nn=nn, dd=10, phi=phi.ball, PLOT_GRID = T )\n",
    "print(paste(\"Est  volume = \",out[1]))\n",
    "print(paste(\"True volume = \",(2.55016404)))\n",
    "print(paste(\"Variance = \",out[2]))\n",
    "vol_compConfInt( out[1], out[2], nn, 0.05 )"
   ]
  },
  {
   "cell_type": "markdown",
   "id": "c7454496-650a-45bc-8068-da0a763aa451",
   "metadata": {},
   "source": [
    "# 2. Beta(1/2,1/2)"
   ]
  },
  {
   "cell_type": "code",
   "execution_count": 164,
   "id": "f0dd0096-3b8f-47ea-b71b-6e8e2f80fd5e",
   "metadata": {},
   "outputs": [],
   "source": [
    "scaledf_density <- function( y,d ){ \n",
    "    \n",
    "    \n",
    "    return (  (1/(2*pi)) * 1/( (sqrt((y+1)/2)*sqrt(1-((y+1)/2))) )  );\n",
    "    \n",
    "    \n",
    "    \n",
    "}"
   ]
  },
  {
   "cell_type": "code",
   "execution_count": 183,
   "id": "944d93d4-d229-46a7-b4bb-5f82e77f4210",
   "metadata": {},
   "outputs": [],
   "source": [
    "## Run the Monte Carlo method\n",
    "## nn points \n",
    "## with phi a boolean function \n",
    "\n",
    "\n",
    "\n",
    "vol_monteCarloBeta <- function( \n",
    "  nn=5000, dd=4, nu=1/2, phi, PLOT_GRID=F \n",
    "){\n",
    "  # generate nn * dd beta random variables\n",
    "\n",
    "  mcGrid <- matrix(\n",
    "    2*rbeta( nn*dd, shape1 = 1/2, shape2 = 1/2 )-1 , nrow=nn, ncol=dd \n",
    "  );\n",
    "  \n",
    "  # Apply phi to each row in mcGrid\n",
    "  # to determine if the point is in region D\n",
    "  inRegion <- apply( mcGrid, 1, phi )\n",
    "  \n",
    "  # Compute beta weights\n",
    "    \n",
    "  \n",
    " \n",
    "  #betaWeight <- dbeta( mcGrid, shape1 = 1/2, shape2 = 1/2 )\n",
    "    \n",
    "  betaWeight = scaledf_density(mcGrid,dd)\n",
    "    \n",
    "    \n",
    "  betaWeight <- apply( betaWeight, 1, prod )\n",
    "    \n",
    "\n",
    "\n",
    "  if( PLOT_GRID & (dd==2) )\n",
    "    plot(\n",
    "      mcGrid, xlim=c(0,1),ylim=c(0,1),las=1,\n",
    "      col = c(\"gray\",\"red\")[inRegion+1],pch=16\n",
    "    )\n",
    "    \n",
    "  # Weighted Mean\n",
    "  est = mean(inRegion/betaWeight)\n",
    "  vari= var(inRegion/betaWeight)/(nn-1)\n",
    "  return( \n",
    "    c( \n",
    "      est,   # estimate for vol(D)\n",
    "      vari   # estimate variance\n",
    "    )\n",
    "  )\n",
    "}\n",
    "\n",
    "\n",
    "\n",
    "vol_compConfInt <- function( est, vari, nn, alf ){\n",
    "  norm = c(est - qnorm(1-alf/2)*sqrt(vari), est, est + qnorm(1-alf/2)*sqrt(vari) )\n",
    "  cheb = c(est - sqrt(4*nn*alf)^(-1), est, est + sqrt(4*nn*alf)^(-1) )\n",
    "  hoef = c(est - sqrt(-log(alf/2)/(2*nn)), est, est + sqrt(-log(alf/2)/(2*nn)) )\n",
    "  return(\n",
    "    rbind( norm,cheb,hoef )\n",
    "  )}\n",
    "  \n",
    "\n",
    "\n"
   ]
  },
  {
   "cell_type": "code",
   "execution_count": 184,
   "id": "23479138-0a10-4ac4-87ca-2874d11047d1",
   "metadata": {},
   "outputs": [
    {
     "name": "stdout",
     "output_type": "stream",
     "text": [
      "[1] \"----- beta Dist,  -----\"\n",
      "[1] \"Est  Area =  4.94880109357355\"\n",
      "[1] \"True Area =  4.9348\"\n",
      "[1] \"Variance =  0.00586139542256971\"\n"
     ]
    },
    {
     "data": {
      "text/html": [
       "<table class=\"dataframe\">\n",
       "<caption>A matrix: 3 × 3 of type dbl</caption>\n",
       "<tbody>\n",
       "\t<tr><th scope=row>norm</th><td>4.798747</td><td>4.948801</td><td>5.098855</td></tr>\n",
       "\t<tr><th scope=row>cheb</th><td>4.938801</td><td>4.948801</td><td>4.958801</td></tr>\n",
       "\t<tr><th scope=row>hoef</th><td>4.942727</td><td>4.948801</td><td>4.954875</td></tr>\n",
       "</tbody>\n",
       "</table>\n"
      ],
      "text/latex": [
       "A matrix: 3 × 3 of type dbl\n",
       "\\begin{tabular}{r|lll}\n",
       "\tnorm & 4.798747 & 4.948801 & 5.098855\\\\\n",
       "\tcheb & 4.938801 & 4.948801 & 4.958801\\\\\n",
       "\thoef & 4.942727 & 4.948801 & 4.954875\\\\\n",
       "\\end{tabular}\n"
      ],
      "text/markdown": [
       "\n",
       "A matrix: 3 × 3 of type dbl\n",
       "\n",
       "| norm | 4.798747 | 4.948801 | 5.098855 |\n",
       "| cheb | 4.938801 | 4.948801 | 4.958801 |\n",
       "| hoef | 4.942727 | 4.948801 | 4.954875 |\n",
       "\n"
      ],
      "text/plain": [
       "     [,1]     [,2]     [,3]    \n",
       "norm 4.798747 4.948801 5.098855\n",
       "cheb 4.938801 4.948801 4.958801\n",
       "hoef 4.942727 4.948801 4.954875"
      ]
     },
     "metadata": {},
     "output_type": "display_data"
    }
   ],
   "source": [
    "# Try nn = 100, dimensions = 4\n",
    "nn = 50000\n",
    "out = vol_monteCarloBeta( nn=nn, dd=4, nu=2, phi=phi.ball, PLOT_GRID = F )\n",
    "print(\"----- beta Dist,  -----\")\n",
    "print(paste(\"Est  Area = \",out[1]))\n",
    "print(paste(\"True Area = \",4.9348))\n",
    "print(paste(\"Variance = \",out[2]))\n",
    "vol_compConfInt( out[1], out[2], nn, 0.05 )"
   ]
  },
  {
   "cell_type": "code",
   "execution_count": 111,
   "id": "6b8af4b4-a672-4f56-bb8c-65f36cb013b1",
   "metadata": {},
   "outputs": [
    {
     "name": "stdout",
     "output_type": "stream",
     "text": [
      "[1] \"Est  volume =  2.21459008703756\"\n",
      "[1] \"True volume =  2.55016404\"\n",
      "[1] \"Variance =  2579886.81109531\"\n"
     ]
    },
    {
     "data": {
      "text/html": [
       "<table class=\"dataframe\">\n",
       "<caption>A matrix: 3 × 3 of type dbl</caption>\n",
       "<tbody>\n",
       "\t<tr><th scope=row>norm</th><td>-3145.884669</td><td>2.21459</td><td>3150.313849</td></tr>\n",
       "\t<tr><th scope=row>cheb</th><td>    2.204590</td><td>2.21459</td><td>   2.224590</td></tr>\n",
       "\t<tr><th scope=row>hoef</th><td>    2.208516</td><td>2.21459</td><td>   2.220664</td></tr>\n",
       "</tbody>\n",
       "</table>\n"
      ],
      "text/latex": [
       "A matrix: 3 × 3 of type dbl\n",
       "\\begin{tabular}{r|lll}\n",
       "\tnorm & -3145.884669 & 2.21459 & 3150.313849\\\\\n",
       "\tcheb &     2.204590 & 2.21459 &    2.224590\\\\\n",
       "\thoef &     2.208516 & 2.21459 &    2.220664\\\\\n",
       "\\end{tabular}\n"
      ],
      "text/markdown": [
       "\n",
       "A matrix: 3 × 3 of type dbl\n",
       "\n",
       "| norm | -3145.884669 | 2.21459 | 3150.313849 |\n",
       "| cheb |     2.204590 | 2.21459 |    2.224590 |\n",
       "| hoef |     2.208516 | 2.21459 |    2.220664 |\n",
       "\n"
      ],
      "text/plain": [
       "     [,1]         [,2]    [,3]       \n",
       "norm -3145.884669 2.21459 3150.313849\n",
       "cheb     2.204590 2.21459    2.224590\n",
       "hoef     2.208516 2.21459    2.220664"
      ]
     },
     "metadata": {},
     "output_type": "display_data"
    }
   ],
   "source": [
    "# Try nn = 3600 and dimensions = 10\n",
    "nn = 50000\n",
    "\n",
    "out = vol_monteCarloBeta( nn=nn, dd=10, phi=phi.ball, PLOT_GRID = F )\n",
    "print(paste(\"Est  volume = \",out[1]))\n",
    "print(paste(\"True volume = \",(2.55016404)))\n",
    "print(paste(\"Variance = \",out[2]))\n",
    "vol_compConfInt( out[1], out[2], nn, 0.05 )"
   ]
  },
  {
   "cell_type": "markdown",
   "id": "1d6aae23-8074-4b7a-9540-c6dde0f0b1a8",
   "metadata": {},
   "source": [
    "# 3. Beta(2,2)"
   ]
  },
  {
   "cell_type": "code",
   "execution_count": 191,
   "id": "adf889fb-2dbe-4186-bff8-992266d683e9",
   "metadata": {},
   "outputs": [],
   "source": [
    "scaledf_density2 <- function( y ){ \n",
    "    \n",
    "    \n",
    "    return(  3*( (y+1)/2)*( 1- ( (y+1)/2))              );\n",
    "    \n",
    "    \n",
    "    \n",
    "}"
   ]
  },
  {
   "cell_type": "code",
   "execution_count": 189,
   "id": "fd4b4b6f-622d-4549-916f-3bd49db6b0a6",
   "metadata": {},
   "outputs": [],
   "source": [
    "## Run the Monte Carlo method\n",
    "## nn points \n",
    "## with phi a boolean function \n",
    "\n",
    "\n",
    "\n",
    "vol_monteCarloBeta22 <- function( \n",
    "  nn=5000, dd=4, nu=2, phi, PLOT_GRID=F \n",
    "){\n",
    "  # generate nn * dd beta random variables\n",
    "\n",
    "  mcGrid <- matrix(\n",
    "    2*rbeta( nn*dd, shape1 = 2, shape2 = 2 )-1 , nrow=nn, ncol=dd \n",
    "  );\n",
    "  \n",
    "  # Apply phi to each row in mcGrid\n",
    "  # to determine if the point is in region D\n",
    "  inRegion <- apply( mcGrid, 1, phi )\n",
    "  \n",
    "  # Compute beta weights\n",
    "    \n",
    "  \n",
    " \n",
    "  #betaWeight <- dbeta( mcGrid, shape1 = 1/2, shape2 = 1/2 )\n",
    "    \n",
    "  betaWeight <- scaledf_density2(mcGrid)\n",
    "    \n",
    "    \n",
    "  betaWeight <- apply( betaWeight, 1, prod )\n",
    "    \n",
    "\n",
    "\n",
    "  if( PLOT_GRID & (dd==2) )\n",
    "    plot(\n",
    "      mcGrid, xlim=c(0,1),ylim=c(0,1),las=1,\n",
    "      col = c(\"gray\",\"red\")[inRegion+1],pch=16\n",
    "    )\n",
    "    \n",
    "  # Weighted Mean\n",
    "  est = mean(inRegion/betaWeight)\n",
    "  vari= var(inRegion/betaWeight)/(nn-1)\n",
    "  return( \n",
    "    c( \n",
    "      est,   # estimate for vol(D)\n",
    "      vari   # estimate variance\n",
    "    )\n",
    "  )\n",
    "}\n",
    "\n",
    "\n",
    "\n",
    "vol_compConfInt <- function( est, vari, nn, alf ){\n",
    "  norm = c(est - qnorm(1-alf/2)*sqrt(vari), est, est + qnorm(1-alf/2)*sqrt(vari) )\n",
    "  cheb = c(est - sqrt(4*nn*alf)^(-1), est, est + sqrt(4*nn*alf)^(-1) )\n",
    "  hoef = c(est - sqrt(-log(alf/2)/(2*nn)), est, est + sqrt(-log(alf/2)/(2*nn)) )\n",
    "  return(\n",
    "    rbind( norm,cheb,hoef )\n",
    "  )}\n",
    "  \n",
    "\n",
    "\n"
   ]
  },
  {
   "cell_type": "code",
   "execution_count": 192,
   "id": "bff40797-4ae9-40f2-bee8-f9866ae55e7a",
   "metadata": {},
   "outputs": [
    {
     "name": "stdout",
     "output_type": "stream",
     "text": [
      "[1] \"----- beta Dist,  -----\"\n",
      "[1] \"Est  Area =  4.92462004239008\"\n",
      "[1] \"True Area =  4.9348\"\n",
      "[1] \"Variance =  0.000338956501417036\"\n"
     ]
    },
    {
     "data": {
      "text/html": [
       "<table class=\"dataframe\">\n",
       "<caption>A matrix: 3 × 3 of type dbl</caption>\n",
       "<tbody>\n",
       "\t<tr><th scope=row>norm</th><td>4.888536</td><td>4.92462</td><td>4.960704</td></tr>\n",
       "\t<tr><th scope=row>cheb</th><td>4.914620</td><td>4.92462</td><td>4.934620</td></tr>\n",
       "\t<tr><th scope=row>hoef</th><td>4.918546</td><td>4.92462</td><td>4.930694</td></tr>\n",
       "</tbody>\n",
       "</table>\n"
      ],
      "text/latex": [
       "A matrix: 3 × 3 of type dbl\n",
       "\\begin{tabular}{r|lll}\n",
       "\tnorm & 4.888536 & 4.92462 & 4.960704\\\\\n",
       "\tcheb & 4.914620 & 4.92462 & 4.934620\\\\\n",
       "\thoef & 4.918546 & 4.92462 & 4.930694\\\\\n",
       "\\end{tabular}\n"
      ],
      "text/markdown": [
       "\n",
       "A matrix: 3 × 3 of type dbl\n",
       "\n",
       "| norm | 4.888536 | 4.92462 | 4.960704 |\n",
       "| cheb | 4.914620 | 4.92462 | 4.934620 |\n",
       "| hoef | 4.918546 | 4.92462 | 4.930694 |\n",
       "\n"
      ],
      "text/plain": [
       "     [,1]     [,2]    [,3]    \n",
       "norm 4.888536 4.92462 4.960704\n",
       "cheb 4.914620 4.92462 4.934620\n",
       "hoef 4.918546 4.92462 4.930694"
      ]
     },
     "metadata": {},
     "output_type": "display_data"
    }
   ],
   "source": [
    "# Try nn = 100, dimensions = 4\n",
    "nn = 50000\n",
    "out = vol_monteCarloBeta22( nn=nn, dd=4, nu=2, phi=phi.ball, PLOT_GRID = F )\n",
    "print(\"----- beta Dist,  -----\")\n",
    "print(paste(\"Est  Area = \",out[1]))\n",
    "print(paste(\"True Area = \",4.9348))\n",
    "print(paste(\"Variance = \",out[2]))\n",
    "vol_compConfInt( out[1], out[2], nn, 0.05 )"
   ]
  },
  {
   "cell_type": "code",
   "execution_count": 346,
   "id": "b03db86d-860a-4094-8a2a-500710bf0631",
   "metadata": {},
   "outputs": [
    {
     "name": "stdout",
     "output_type": "stream",
     "text": [
      "[1] \"Est  volume =  2.44601068736554\"\n",
      "[1] \"True volume =  2.55016404\"\n",
      "[1] \"Variance =  0.00215571667383763\"\n"
     ]
    },
    {
     "data": {
      "text/html": [
       "<table class=\"dataframe\">\n",
       "<caption>A matrix: 3 × 3 of type dbl</caption>\n",
       "<tbody>\n",
       "\t<tr><th scope=row>norm</th><td>2.355010</td><td>2.446011</td><td>2.537011</td></tr>\n",
       "\t<tr><th scope=row>cheb</th><td>2.436011</td><td>2.446011</td><td>2.456011</td></tr>\n",
       "\t<tr><th scope=row>hoef</th><td>2.439937</td><td>2.446011</td><td>2.452084</td></tr>\n",
       "</tbody>\n",
       "</table>\n"
      ],
      "text/latex": [
       "A matrix: 3 × 3 of type dbl\n",
       "\\begin{tabular}{r|lll}\n",
       "\tnorm & 2.355010 & 2.446011 & 2.537011\\\\\n",
       "\tcheb & 2.436011 & 2.446011 & 2.456011\\\\\n",
       "\thoef & 2.439937 & 2.446011 & 2.452084\\\\\n",
       "\\end{tabular}\n"
      ],
      "text/markdown": [
       "\n",
       "A matrix: 3 × 3 of type dbl\n",
       "\n",
       "| norm | 2.355010 | 2.446011 | 2.537011 |\n",
       "| cheb | 2.436011 | 2.446011 | 2.456011 |\n",
       "| hoef | 2.439937 | 2.446011 | 2.452084 |\n",
       "\n"
      ],
      "text/plain": [
       "     [,1]     [,2]     [,3]    \n",
       "norm 2.355010 2.446011 2.537011\n",
       "cheb 2.436011 2.446011 2.456011\n",
       "hoef 2.439937 2.446011 2.452084"
      ]
     },
     "metadata": {},
     "output_type": "display_data"
    }
   ],
   "source": [
    "# Try nn = 3600 and dimensions = 10\n",
    "nn = 50000\n",
    "\n",
    "out = vol_monteCarloBeta22( nn=nn, dd=10, phi=phi.ball, PLOT_GRID = F )\n",
    "print(paste(\"Est  volume = \",out[1]))\n",
    "print(paste(\"True volume = \",(2.55016404)))\n",
    "print(paste(\"Variance = \",out[2]))\n",
    "vol_compConfInt( out[1], out[2], nn, 0.05 )"
   ]
  },
  {
   "cell_type": "markdown",
   "id": "dde2af7f-b2e1-4d86-a99d-3468ed74d498",
   "metadata": {},
   "source": [
    " # 2: Computing the Bessel function"
   ]
  },
  {
   "cell_type": "markdown",
   "id": "39e17906-b4ac-4516-930b-4ca630791333",
   "metadata": {},
   "source": [
    "# 1. from Unif[-1,1]"
   ]
  },
  {
   "cell_type": "code",
   "execution_count": 303,
   "id": "91a58725-b703-4ace-a109-b7713876a0df",
   "metadata": {},
   "outputs": [],
   "source": [
    "besselFunc <- function( m,x,t ){\n",
    "    return(     cos((m*t) - x*sin(t))     );\n",
    "}"
   ]
  },
  {
   "cell_type": "code",
   "execution_count": 241,
   "id": "2f50af9c-09da-4bd1-a17c-ac1a28ba5367",
   "metadata": {},
   "outputs": [],
   "source": [
    "## Run the Monte Carlo method\n",
    "## nn points \n",
    "## with phi a boolean function \n",
    "\n",
    "\n",
    "\n",
    "besselunif <- function( \n",
    "  nn=5000, x=1, m=1,  PLOT_GRID=F \n",
    "){\n",
    "  # generate nn * dd beta random variables\n",
    "\n",
    "  xx <- runif(nn,0,pi)\n",
    "  \n",
    "  # Apply phi to each row in mcGrid\n",
    "  # to determine if the point is in region D\n",
    "  val <- besselFunc(m,x,xx)\n",
    "    \n",
    "  \n",
    "  \n",
    "\n",
    "    \n",
    "  est = mean(val)\n",
    "  vari= var(val)\n",
    "  return( \n",
    "    c( \n",
    "      est,   # estimate for integral of bessel function\n",
    "      vari   # estimate variance\n",
    "    )\n",
    "  )\n",
    "}\n",
    "\n",
    "\n",
    "\n",
    "vol_compConfInt <- function( est, vari, nn, alf ){\n",
    "  norm = c(est - qnorm(1-alf/2)*sqrt(vari), est, est + qnorm(1-alf/2)*sqrt(vari) )\n",
    "  cheb = c(est - sqrt(4*nn*alf)^(-1), est, est + sqrt(4*nn*alf)^(-1) )\n",
    "  hoef = c(est - sqrt(-log(alf/2)/(2*nn)), est, est + sqrt(-log(alf/2)/(2*nn)) )\n",
    "  return(\n",
    "    rbind( norm,cheb,hoef )\n",
    "  )}\n",
    "  \n",
    "\n"
   ]
  },
  {
   "cell_type": "code",
   "execution_count": 310,
   "id": "6339a136-9d42-455b-8b02-f273110aa822",
   "metadata": {},
   "outputs": [
    {
     "name": "stdout",
     "output_type": "stream",
     "text": [
      "[1] \"----- Uniform Dist,  -----\"\n",
      "[1] \"Est  Area =  0.435131206976375\"\n",
      "[1] \"True Area =  0.440050585744934\"\n",
      "[1] \"Variance =  0.487362978881403\"\n"
     ]
    },
    {
     "data": {
      "text/html": [
       "<table class=\"dataframe\">\n",
       "<caption>A matrix: 3 × 3 of type dbl</caption>\n",
       "<tbody>\n",
       "\t<tr><th scope=row>norm</th><td>-0.9331468</td><td>0.4351312</td><td>1.8034093</td></tr>\n",
       "\t<tr><th scope=row>cheb</th><td> 0.4251312</td><td>0.4351312</td><td>0.4451312</td></tr>\n",
       "\t<tr><th scope=row>hoef</th><td> 0.4290576</td><td>0.4351312</td><td>0.4412048</td></tr>\n",
       "</tbody>\n",
       "</table>\n"
      ],
      "text/latex": [
       "A matrix: 3 × 3 of type dbl\n",
       "\\begin{tabular}{r|lll}\n",
       "\tnorm & -0.9331468 & 0.4351312 & 1.8034093\\\\\n",
       "\tcheb &  0.4251312 & 0.4351312 & 0.4451312\\\\\n",
       "\thoef &  0.4290576 & 0.4351312 & 0.4412048\\\\\n",
       "\\end{tabular}\n"
      ],
      "text/markdown": [
       "\n",
       "A matrix: 3 × 3 of type dbl\n",
       "\n",
       "| norm | -0.9331468 | 0.4351312 | 1.8034093 |\n",
       "| cheb |  0.4251312 | 0.4351312 | 0.4451312 |\n",
       "| hoef |  0.4290576 | 0.4351312 | 0.4412048 |\n",
       "\n"
      ],
      "text/plain": [
       "     [,1]       [,2]      [,3]     \n",
       "norm -0.9331468 0.4351312 1.8034093\n",
       "cheb  0.4251312 0.4351312 0.4451312\n",
       "hoef  0.4290576 0.4351312 0.4412048"
      ]
     },
     "metadata": {},
     "output_type": "display_data"
    }
   ],
   "source": [
    "# Try with m=1,x=1\n",
    "nn = 50000\n",
    "out = besselunif( nn=nn,  x=1, m=1, PLOT_GRID = F )\n",
    "print(\"----- Uniform Dist,  -----\")\n",
    "print(paste(\"Est  Area = \",out[1]))\n",
    "print(paste(\"True Area = \",besselJ(1,1)))\n",
    "print(paste(\"Variance = \",out[2]))\n",
    "vol_compConfInt( out[1], out[2], nn, 0.05 )\n"
   ]
  },
  {
   "cell_type": "code",
   "execution_count": 315,
   "id": "6b943ef8-d045-405e-a306-348016a2b0c0",
   "metadata": {},
   "outputs": [
    {
     "name": "stdout",
     "output_type": "stream",
     "text": [
      "[1] \"----- Uniform Dist,  -----\"\n",
      "[1] \"Est  Area =  0.358893242776897\"\n",
      "[1] \"True Area =  0.352834028615638\"\n",
      "[1] \"Variance =  0.51381201886117\"\n"
     ]
    },
    {
     "data": {
      "text/html": [
       "<table class=\"dataframe\">\n",
       "<caption>A matrix: 3 × 3 of type dbl</caption>\n",
       "<tbody>\n",
       "\t<tr><th scope=row>norm</th><td>-1.0460223</td><td>0.3588932</td><td>1.7638088</td></tr>\n",
       "\t<tr><th scope=row>cheb</th><td> 0.3488932</td><td>0.3588932</td><td>0.3688932</td></tr>\n",
       "\t<tr><th scope=row>hoef</th><td> 0.3528196</td><td>0.3588932</td><td>0.3649669</td></tr>\n",
       "</tbody>\n",
       "</table>\n"
      ],
      "text/latex": [
       "A matrix: 3 × 3 of type dbl\n",
       "\\begin{tabular}{r|lll}\n",
       "\tnorm & -1.0460223 & 0.3588932 & 1.7638088\\\\\n",
       "\tcheb &  0.3488932 & 0.3588932 & 0.3688932\\\\\n",
       "\thoef &  0.3528196 & 0.3588932 & 0.3649669\\\\\n",
       "\\end{tabular}\n"
      ],
      "text/markdown": [
       "\n",
       "A matrix: 3 × 3 of type dbl\n",
       "\n",
       "| norm | -1.0460223 | 0.3588932 | 1.7638088 |\n",
       "| cheb |  0.3488932 | 0.3588932 | 0.3688932 |\n",
       "| hoef |  0.3528196 | 0.3588932 | 0.3649669 |\n",
       "\n"
      ],
      "text/plain": [
       "     [,1]       [,2]      [,3]     \n",
       "norm -1.0460223 0.3588932 1.7638088\n",
       "cheb  0.3488932 0.3588932 0.3688932\n",
       "hoef  0.3528196 0.3588932 0.3649669"
      ]
     },
     "metadata": {},
     "output_type": "display_data"
    }
   ],
   "source": [
    "# Try with m=2,x=2\n",
    "nn = 50000\n",
    "out = besselunif( nn=nn,  x=2, m=2, PLOT_GRID = F )\n",
    "print(\"----- Uniform Dist,  -----\")\n",
    "print(paste(\"Est  Area = \",out[1]))\n",
    "print(paste(\"True Area = \",besselJ(2,2)))\n",
    "print(paste(\"Variance = \",out[2]))\n",
    "vol_compConfInt( out[1], out[2], nn, 0.05 )"
   ]
  },
  {
   "cell_type": "code",
   "execution_count": 347,
   "id": "84254a27-3947-4814-ba8d-9c1297c21931",
   "metadata": {},
   "outputs": [
    {
     "name": "stdout",
     "output_type": "stream",
     "text": [
      "[1] \"----- Uniform Dist,  -----\"\n",
      "[1] \"Est  Area =  0.27780709872202\"\n",
      "[1] \"True Area =  0.28112906496136\"\n",
      "[1] \"Variance =  0.530929408685231\"\n"
     ]
    },
    {
     "data": {
      "text/html": [
       "<table class=\"dataframe\">\n",
       "<caption>A matrix: 3 × 3 of type dbl</caption>\n",
       "<tbody>\n",
       "\t<tr><th scope=row>norm</th><td>-1.1503188</td><td>0.2778071</td><td>1.7059330</td></tr>\n",
       "\t<tr><th scope=row>cheb</th><td> 0.2678071</td><td>0.2778071</td><td>0.2878071</td></tr>\n",
       "\t<tr><th scope=row>hoef</th><td> 0.2717335</td><td>0.2778071</td><td>0.2838807</td></tr>\n",
       "</tbody>\n",
       "</table>\n"
      ],
      "text/latex": [
       "A matrix: 3 × 3 of type dbl\n",
       "\\begin{tabular}{r|lll}\n",
       "\tnorm & -1.1503188 & 0.2778071 & 1.7059330\\\\\n",
       "\tcheb &  0.2678071 & 0.2778071 & 0.2878071\\\\\n",
       "\thoef &  0.2717335 & 0.2778071 & 0.2838807\\\\\n",
       "\\end{tabular}\n"
      ],
      "text/markdown": [
       "\n",
       "A matrix: 3 × 3 of type dbl\n",
       "\n",
       "| norm | -1.1503188 | 0.2778071 | 1.7059330 |\n",
       "| cheb |  0.2678071 | 0.2778071 | 0.2878071 |\n",
       "| hoef |  0.2717335 | 0.2778071 | 0.2838807 |\n",
       "\n"
      ],
      "text/plain": [
       "     [,1]       [,2]      [,3]     \n",
       "norm -1.1503188 0.2778071 1.7059330\n",
       "cheb  0.2678071 0.2778071 0.2878071\n",
       "hoef  0.2717335 0.2778071 0.2838807"
      ]
     },
     "metadata": {},
     "output_type": "display_data"
    }
   ],
   "source": [
    "# Try with m=2,x=2\n",
    "nn = 50000\n",
    "out = besselunif( nn=nn,  x=4, m=4, PLOT_GRID = F )\n",
    "print(\"----- Uniform Dist,  -----\")\n",
    "print(paste(\"Est  Area = \",out[1]))\n",
    "print(paste(\"True Area = \",besselJ(4,4)))\n",
    "print(paste(\"Variance = \",out[2]))\n",
    "vol_compConfInt( out[1], out[2], nn, 0.05 )"
   ]
  },
  {
   "cell_type": "markdown",
   "id": "902a56dc-1389-40e6-8ef8-77f4228f61f1",
   "metadata": {},
   "source": [
    "# 2. from Beta(1/2,1/2)"
   ]
  },
  {
   "cell_type": "code",
   "execution_count": 278,
   "id": "89ac309d-52bd-453f-bf79-928cfe3d3fdd",
   "metadata": {},
   "outputs": [],
   "source": [
    "density <- function( y ){ \n",
    "    \n",
    "    \n",
    "    return(   (1/(pi*pi))*(1/(sqrt(y/pi)))*(1/sqrt(1-(y/pi)))  );\n",
    "    \n",
    "    \n",
    "    \n",
    "}"
   ]
  },
  {
   "cell_type": "code",
   "execution_count": 322,
   "id": "ddb23dcd-5b95-4aa3-96c7-e6e805336561",
   "metadata": {},
   "outputs": [],
   "source": [
    "## Run the Monte Carlo method\n",
    "## nn points \n",
    "## with phi a boolean function \n",
    "\n",
    "\n",
    "\n",
    "besselbeta <- function( \n",
    "  nn=5000, x=1, m=1,  PLOT_GRID=F \n",
    "){\n",
    "  # generate nn * dd beta random variables\n",
    "\n",
    "  xx <- rbeta(nn,shape1=1/2,shape2=1/2)*pi\n",
    "    \n",
    " \n",
    "    \n",
    "  \n",
    "    \n",
    "  \n",
    "  \n",
    "  # Apply phi to each row in mcGrid\n",
    "  # to determine if the point is in region D\n",
    "  val <- besselFunc(m,x,xx)\n",
    "    \n",
    "  ww  <- density(xx)\n",
    "    \n",
    "  \n",
    "  \n",
    "\n",
    "    \n",
    "  est = mean(val*(1/pi)/ww)\n",
    "  vari= var(val*(1/pi)/ww)\n",
    "  return( \n",
    "    c( \n",
    "      est,   # estimate for integral of bessel function\n",
    "      vari   # estimate variance\n",
    "    )\n",
    "  )\n",
    "}\n",
    "\n",
    "\n",
    "\n",
    "vol_compConfInt <- function( est, vari, nn, alf ){\n",
    "  norm = c(est - qnorm(1-alf/2)*sqrt(vari), est, est + qnorm(1-alf/2)*sqrt(vari) )\n",
    "  cheb = c(est - sqrt(4*nn*alf)^(-1), est, est + sqrt(4*nn*alf)^(-1) )\n",
    "  hoef = c(est - sqrt(-log(alf/2)/(2*nn)), est, est + sqrt(-log(alf/2)/(2*nn)) )\n",
    "  return(\n",
    "    rbind( norm,cheb,hoef )\n",
    "  )}\n",
    "  \n"
   ]
  },
  {
   "cell_type": "code",
   "execution_count": 324,
   "id": "49737555-0e6e-47c3-84d9-1055a9edc358",
   "metadata": {},
   "outputs": [
    {
     "name": "stdout",
     "output_type": "stream",
     "text": [
      "[1] \"----- Uniform Dist,  -----\"\n",
      "[1] \"Est  Area =  0.440463198692848\"\n",
      "[1] \"True Area =  0.440050585744934\"\n",
      "[1] \"Variance =  0.601555339344559\"\n"
     ]
    },
    {
     "data": {
      "text/html": [
       "<table class=\"dataframe\">\n",
       "<caption>A matrix: 3 × 3 of type dbl</caption>\n",
       "<tbody>\n",
       "\t<tr><th scope=row>norm</th><td>-1.0796848</td><td>0.4404632</td><td>1.9606112</td></tr>\n",
       "\t<tr><th scope=row>cheb</th><td> 0.4088404</td><td>0.4404632</td><td>0.4720860</td></tr>\n",
       "\t<tr><th scope=row>hoef</th><td> 0.4212567</td><td>0.4404632</td><td>0.4596697</td></tr>\n",
       "</tbody>\n",
       "</table>\n"
      ],
      "text/latex": [
       "A matrix: 3 × 3 of type dbl\n",
       "\\begin{tabular}{r|lll}\n",
       "\tnorm & -1.0796848 & 0.4404632 & 1.9606112\\\\\n",
       "\tcheb &  0.4088404 & 0.4404632 & 0.4720860\\\\\n",
       "\thoef &  0.4212567 & 0.4404632 & 0.4596697\\\\\n",
       "\\end{tabular}\n"
      ],
      "text/markdown": [
       "\n",
       "A matrix: 3 × 3 of type dbl\n",
       "\n",
       "| norm | -1.0796848 | 0.4404632 | 1.9606112 |\n",
       "| cheb |  0.4088404 | 0.4404632 | 0.4720860 |\n",
       "| hoef |  0.4212567 | 0.4404632 | 0.4596697 |\n",
       "\n"
      ],
      "text/plain": [
       "     [,1]       [,2]      [,3]     \n",
       "norm -1.0796848 0.4404632 1.9606112\n",
       "cheb  0.4088404 0.4404632 0.4720860\n",
       "hoef  0.4212567 0.4404632 0.4596697"
      ]
     },
     "metadata": {},
     "output_type": "display_data"
    }
   ],
   "source": [
    "# Try with m=1,x=1\n",
    "nn = 5000\n",
    "out = besselbeta( nn=nn,  x=1, m=1, PLOT_GRID = F )\n",
    "print(\"----- Uniform Dist,  -----\")\n",
    "print(paste(\"Est  Area = \",out[1]))\n",
    "print(paste(\"True Area = \",besselJ(1,1)))\n",
    "print(paste(\"Variance = \",out[2]))\n",
    "vol_compConfInt( out[1], out[2], nn, 0.05 )\n"
   ]
  },
  {
   "cell_type": "code",
   "execution_count": 326,
   "id": "1b3db128-6eae-4167-9083-fc0a541914d9",
   "metadata": {},
   "outputs": [
    {
     "name": "stdout",
     "output_type": "stream",
     "text": [
      "[1] \"----- Uniform Dist,  -----\"\n",
      "[1] \"Est  Area =  0.349342790897357\"\n",
      "[1] \"True Area =  0.352834028615638\"\n",
      "[1] \"Variance =  0.625468451083052\"\n"
     ]
    },
    {
     "data": {
      "text/html": [
       "<table class=\"dataframe\">\n",
       "<caption>A matrix: 3 × 3 of type dbl</caption>\n",
       "<tbody>\n",
       "\t<tr><th scope=row>norm</th><td>-1.2007254</td><td>0.3493428</td><td>1.8994110</td></tr>\n",
       "\t<tr><th scope=row>cheb</th><td> 0.3177200</td><td>0.3493428</td><td>0.3809656</td></tr>\n",
       "\t<tr><th scope=row>hoef</th><td> 0.3301363</td><td>0.3493428</td><td>0.3685492</td></tr>\n",
       "</tbody>\n",
       "</table>\n"
      ],
      "text/latex": [
       "A matrix: 3 × 3 of type dbl\n",
       "\\begin{tabular}{r|lll}\n",
       "\tnorm & -1.2007254 & 0.3493428 & 1.8994110\\\\\n",
       "\tcheb &  0.3177200 & 0.3493428 & 0.3809656\\\\\n",
       "\thoef &  0.3301363 & 0.3493428 & 0.3685492\\\\\n",
       "\\end{tabular}\n"
      ],
      "text/markdown": [
       "\n",
       "A matrix: 3 × 3 of type dbl\n",
       "\n",
       "| norm | -1.2007254 | 0.3493428 | 1.8994110 |\n",
       "| cheb |  0.3177200 | 0.3493428 | 0.3809656 |\n",
       "| hoef |  0.3301363 | 0.3493428 | 0.3685492 |\n",
       "\n"
      ],
      "text/plain": [
       "     [,1]       [,2]      [,3]     \n",
       "norm -1.2007254 0.3493428 1.8994110\n",
       "cheb  0.3177200 0.3493428 0.3809656\n",
       "hoef  0.3301363 0.3493428 0.3685492"
      ]
     },
     "metadata": {},
     "output_type": "display_data"
    }
   ],
   "source": [
    "# Try with m=2,x=2\n",
    "nn = 5000\n",
    "out = besselbeta( nn=nn,  x=2, m=2, PLOT_GRID = F )\n",
    "print(\"----- Uniform Dist,  -----\")\n",
    "print(paste(\"Est  Area = \",out[1]))\n",
    "print(paste(\"True Area = \",besselJ(2,2)))\n",
    "print(paste(\"Variance = \",out[2]))\n",
    "vol_compConfInt( out[1], out[2], nn, 0.05 )"
   ]
  },
  {
   "cell_type": "code",
   "execution_count": 330,
   "id": "904ebc55-1ed7-46b1-954b-d5298a853065",
   "metadata": {},
   "outputs": [
    {
     "name": "stdout",
     "output_type": "stream",
     "text": [
      "[1] \"----- Uniform Dist,  -----\"\n",
      "[1] \"Est  Area =  0.26337816324579\"\n",
      "[1] \"True Area =  0.28112906496136\"\n",
      "[1] \"Variance =  0.636845151679048\"\n"
     ]
    },
    {
     "data": {
      "text/html": [
       "<table class=\"dataframe\">\n",
       "<caption>A matrix: 3 × 3 of type dbl</caption>\n",
       "<tbody>\n",
       "\t<tr><th scope=row>norm</th><td>-1.3007236</td><td>0.2633782</td><td>1.8274800</td></tr>\n",
       "\t<tr><th scope=row>cheb</th><td> 0.2317554</td><td>0.2633782</td><td>0.2950009</td></tr>\n",
       "\t<tr><th scope=row>hoef</th><td> 0.2441717</td><td>0.2633782</td><td>0.2825846</td></tr>\n",
       "</tbody>\n",
       "</table>\n"
      ],
      "text/latex": [
       "A matrix: 3 × 3 of type dbl\n",
       "\\begin{tabular}{r|lll}\n",
       "\tnorm & -1.3007236 & 0.2633782 & 1.8274800\\\\\n",
       "\tcheb &  0.2317554 & 0.2633782 & 0.2950009\\\\\n",
       "\thoef &  0.2441717 & 0.2633782 & 0.2825846\\\\\n",
       "\\end{tabular}\n"
      ],
      "text/markdown": [
       "\n",
       "A matrix: 3 × 3 of type dbl\n",
       "\n",
       "| norm | -1.3007236 | 0.2633782 | 1.8274800 |\n",
       "| cheb |  0.2317554 | 0.2633782 | 0.2950009 |\n",
       "| hoef |  0.2441717 | 0.2633782 | 0.2825846 |\n",
       "\n"
      ],
      "text/plain": [
       "     [,1]       [,2]      [,3]     \n",
       "norm -1.3007236 0.2633782 1.8274800\n",
       "cheb  0.2317554 0.2633782 0.2950009\n",
       "hoef  0.2441717 0.2633782 0.2825846"
      ]
     },
     "metadata": {},
     "output_type": "display_data"
    }
   ],
   "source": [
    "# Try with m=4,x=4\n",
    "nn = 5000\n",
    "out = besselbeta( nn=nn,  x=4, m=4, PLOT_GRID = F )\n",
    "print(\"----- Uniform Dist,  -----\")\n",
    "print(paste(\"Est  Area = \",out[1]))\n",
    "print(paste(\"True Area = \",besselJ(4,4)))\n",
    "print(paste(\"Variance = \",out[2]))\n",
    "vol_compConfInt( out[1], out[2], nn, 0.05 )"
   ]
  },
  {
   "cell_type": "markdown",
   "id": "c2d68ab3-bdd6-4759-a519-e410fb4a6525",
   "metadata": {},
   "source": [
    "# 3: from Beta(2,2)"
   ]
  },
  {
   "cell_type": "code",
   "execution_count": 331,
   "id": "7b3589f8-d4ef-4dc4-bf94-ad57e0b43d18",
   "metadata": {},
   "outputs": [],
   "source": [
    "density2 <- function( y ){ \n",
    "    \n",
    "    \n",
    "    return(     (1/pi)*6*(y/pi)*(1-(y/pi))    );\n",
    "    \n",
    "    \n",
    "    \n",
    "}"
   ]
  },
  {
   "cell_type": "code",
   "execution_count": 333,
   "id": "080189cf-8986-4e18-92a5-b985b0e9190f",
   "metadata": {},
   "outputs": [],
   "source": [
    "## Run the Monte Carlo method\n",
    "## nn points \n",
    "## with phi a boolean function \n",
    "\n",
    "\n",
    "\n",
    "besselbeta2 <- function( \n",
    "  nn=5000, x=1, m=1,  PLOT_GRID=F \n",
    "){\n",
    "  # generate nn * dd beta random variables\n",
    "\n",
    "  xx <- rbeta(nn,shape1=2,shape2=2)*pi\n",
    "    \n",
    " \n",
    "    \n",
    "  \n",
    "    \n",
    "  \n",
    "  \n",
    "  # Apply phi to each row in mcGrid\n",
    "  # to determine if the point is in region D\n",
    "  val <- besselFunc(m,x,xx)\n",
    "    \n",
    "  ww  <- density2(xx)\n",
    "    \n",
    "  \n",
    "  \n",
    "\n",
    "    \n",
    "  est = mean(val*(1/pi)/ww)\n",
    "  vari= var(val*(1/pi)/ww)\n",
    "  return( \n",
    "    c( \n",
    "      est,   # estimate for integral of bessel function\n",
    "      vari   # estimate variance\n",
    "    )\n",
    "  )\n",
    "}\n",
    "\n",
    "\n",
    "\n",
    "vol_compConfInt <- function( est, vari, nn, alf ){\n",
    "  norm = c(est - qnorm(1-alf/2)*sqrt(vari), est, est + qnorm(1-alf/2)*sqrt(vari) )\n",
    "  cheb = c(est - sqrt(4*nn*alf)^(-1), est, est + sqrt(4*nn*alf)^(-1) )\n",
    "  hoef = c(est - sqrt(-log(alf/2)/(2*nn)), est, est + sqrt(-log(alf/2)/(2*nn)) )\n",
    "  return(\n",
    "    rbind( norm,cheb,hoef )\n",
    "  )}\n",
    "  \n"
   ]
  },
  {
   "cell_type": "code",
   "execution_count": 334,
   "id": "ba162d84-fe8e-49fc-acdb-fbf85991364b",
   "metadata": {},
   "outputs": [
    {
     "name": "stdout",
     "output_type": "stream",
     "text": [
      "[1] \"----- Uniform Dist,  -----\"\n",
      "[1] \"Est  Area =  0.450071733471133\"\n",
      "[1] \"True Area =  0.440050585744934\"\n",
      "[1] \"Variance =  1.37818583133275\"\n"
     ]
    },
    {
     "data": {
      "text/html": [
       "<table class=\"dataframe\">\n",
       "<caption>A matrix: 3 × 3 of type dbl</caption>\n",
       "<tbody>\n",
       "\t<tr><th scope=row>norm</th><td>-1.8508507</td><td>0.4500717</td><td>2.7509942</td></tr>\n",
       "\t<tr><th scope=row>cheb</th><td> 0.4184490</td><td>0.4500717</td><td>0.4816945</td></tr>\n",
       "\t<tr><th scope=row>hoef</th><td> 0.4308653</td><td>0.4500717</td><td>0.4692782</td></tr>\n",
       "</tbody>\n",
       "</table>\n"
      ],
      "text/latex": [
       "A matrix: 3 × 3 of type dbl\n",
       "\\begin{tabular}{r|lll}\n",
       "\tnorm & -1.8508507 & 0.4500717 & 2.7509942\\\\\n",
       "\tcheb &  0.4184490 & 0.4500717 & 0.4816945\\\\\n",
       "\thoef &  0.4308653 & 0.4500717 & 0.4692782\\\\\n",
       "\\end{tabular}\n"
      ],
      "text/markdown": [
       "\n",
       "A matrix: 3 × 3 of type dbl\n",
       "\n",
       "| norm | -1.8508507 | 0.4500717 | 2.7509942 |\n",
       "| cheb |  0.4184490 | 0.4500717 | 0.4816945 |\n",
       "| hoef |  0.4308653 | 0.4500717 | 0.4692782 |\n",
       "\n"
      ],
      "text/plain": [
       "     [,1]       [,2]      [,3]     \n",
       "norm -1.8508507 0.4500717 2.7509942\n",
       "cheb  0.4184490 0.4500717 0.4816945\n",
       "hoef  0.4308653 0.4500717 0.4692782"
      ]
     },
     "metadata": {},
     "output_type": "display_data"
    }
   ],
   "source": [
    "# Try with m=1,x=1\n",
    "nn = 5000\n",
    "out = besselbeta2( nn=nn,  x=1, m=1, PLOT_GRID = F )\n",
    "print(\"----- Uniform Dist,  -----\")\n",
    "print(paste(\"Est  Area = \",out[1]))\n",
    "print(paste(\"True Area = \",besselJ(1,1)))\n",
    "print(paste(\"Variance = \",out[2]))\n",
    "vol_compConfInt( out[1], out[2], nn, 0.05 )\n"
   ]
  },
  {
   "cell_type": "code",
   "execution_count": 340,
   "id": "91360e18-d394-4bec-9a3a-1fb6445fbffb",
   "metadata": {},
   "outputs": [
    {
     "name": "stdout",
     "output_type": "stream",
     "text": [
      "[1] \"----- Uniform Dist,  -----\"\n",
      "[1] \"Est  Area =  0.333380440275692\"\n",
      "[1] \"True Area =  0.352834028615638\"\n",
      "[1] \"Variance =  0.937554004463737\"\n"
     ]
    },
    {
     "data": {
      "text/html": [
       "<table class=\"dataframe\">\n",
       "<caption>A matrix: 3 × 3 of type dbl</caption>\n",
       "<tbody>\n",
       "\t<tr><th scope=row>norm</th><td>-1.5644012</td><td>0.3333804</td><td>2.2311621</td></tr>\n",
       "\t<tr><th scope=row>cheb</th><td> 0.3017577</td><td>0.3333804</td><td>0.3650032</td></tr>\n",
       "\t<tr><th scope=row>hoef</th><td> 0.3141740</td><td>0.3333804</td><td>0.3525869</td></tr>\n",
       "</tbody>\n",
       "</table>\n"
      ],
      "text/latex": [
       "A matrix: 3 × 3 of type dbl\n",
       "\\begin{tabular}{r|lll}\n",
       "\tnorm & -1.5644012 & 0.3333804 & 2.2311621\\\\\n",
       "\tcheb &  0.3017577 & 0.3333804 & 0.3650032\\\\\n",
       "\thoef &  0.3141740 & 0.3333804 & 0.3525869\\\\\n",
       "\\end{tabular}\n"
      ],
      "text/markdown": [
       "\n",
       "A matrix: 3 × 3 of type dbl\n",
       "\n",
       "| norm | -1.5644012 | 0.3333804 | 2.2311621 |\n",
       "| cheb |  0.3017577 | 0.3333804 | 0.3650032 |\n",
       "| hoef |  0.3141740 | 0.3333804 | 0.3525869 |\n",
       "\n"
      ],
      "text/plain": [
       "     [,1]       [,2]      [,3]     \n",
       "norm -1.5644012 0.3333804 2.2311621\n",
       "cheb  0.3017577 0.3333804 0.3650032\n",
       "hoef  0.3141740 0.3333804 0.3525869"
      ]
     },
     "metadata": {},
     "output_type": "display_data"
    }
   ],
   "source": [
    "# Try with m=2,x=2\n",
    "nn = 5000\n",
    "out = besselbeta2( nn=nn,  x=2, m=2, PLOT_GRID = F )\n",
    "print(\"----- Uniform Dist,  -----\")\n",
    "print(paste(\"Est  Area = \",out[1]))\n",
    "print(paste(\"True Area = \",besselJ(2,2)))\n",
    "print(paste(\"Variance = \",out[2]))\n",
    "vol_compConfInt( out[1], out[2], nn, 0.05 )\n"
   ]
  },
  {
   "cell_type": "code",
   "execution_count": 342,
   "id": "f8613f03-2b89-4d7e-94f9-4c3356ecddab",
   "metadata": {},
   "outputs": [
    {
     "name": "stdout",
     "output_type": "stream",
     "text": [
      "[1] \"----- Uniform Dist,  -----\"\n",
      "[1] \"Est  Area =  0.288349274309623\"\n",
      "[1] \"True Area =  0.28112906496136\"\n",
      "[1] \"Variance =  2.22414960396902\"\n"
     ]
    },
    {
     "data": {
      "text/html": [
       "<table class=\"dataframe\">\n",
       "<caption>A matrix: 3 × 3 of type dbl</caption>\n",
       "<tbody>\n",
       "\t<tr><th scope=row>norm</th><td>-2.6346593</td><td>0.2883493</td><td>3.2113578</td></tr>\n",
       "\t<tr><th scope=row>cheb</th><td> 0.2567265</td><td>0.2883493</td><td>0.3199721</td></tr>\n",
       "\t<tr><th scope=row>hoef</th><td> 0.2691428</td><td>0.2883493</td><td>0.3075557</td></tr>\n",
       "</tbody>\n",
       "</table>\n"
      ],
      "text/latex": [
       "A matrix: 3 × 3 of type dbl\n",
       "\\begin{tabular}{r|lll}\n",
       "\tnorm & -2.6346593 & 0.2883493 & 3.2113578\\\\\n",
       "\tcheb &  0.2567265 & 0.2883493 & 0.3199721\\\\\n",
       "\thoef &  0.2691428 & 0.2883493 & 0.3075557\\\\\n",
       "\\end{tabular}\n"
      ],
      "text/markdown": [
       "\n",
       "A matrix: 3 × 3 of type dbl\n",
       "\n",
       "| norm | -2.6346593 | 0.2883493 | 3.2113578 |\n",
       "| cheb |  0.2567265 | 0.2883493 | 0.3199721 |\n",
       "| hoef |  0.2691428 | 0.2883493 | 0.3075557 |\n",
       "\n"
      ],
      "text/plain": [
       "     [,1]       [,2]      [,3]     \n",
       "norm -2.6346593 0.2883493 3.2113578\n",
       "cheb  0.2567265 0.2883493 0.3199721\n",
       "hoef  0.2691428 0.2883493 0.3075557"
      ]
     },
     "metadata": {},
     "output_type": "display_data"
    }
   ],
   "source": [
    "# Try with m=4,x=4\n",
    "nn = 5000\n",
    "out = besselbeta2( nn=nn,  x=4, m=4, PLOT_GRID = F )\n",
    "print(\"----- Uniform Dist,  -----\")\n",
    "print(paste(\"Est  Area = \",out[1]))\n",
    "print(paste(\"True Area = \",besselJ(4,4)))\n",
    "print(paste(\"Variance = \",out[2]))\n",
    "vol_compConfInt( out[1], out[2], nn, 0.05 )"
   ]
  }
 ],
 "metadata": {
  "kernelspec": {
   "display_name": "R",
   "language": "R",
   "name": "ir"
  },
  "language_info": {
   "codemirror_mode": "r",
   "file_extension": ".r",
   "mimetype": "text/x-r-source",
   "name": "R",
   "pygments_lexer": "r",
   "version": "4.1.3"
  }
 },
 "nbformat": 4,
 "nbformat_minor": 5
}
