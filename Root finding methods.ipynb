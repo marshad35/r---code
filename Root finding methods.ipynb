{
 "cells": [
  {
   "cell_type": "markdown",
   "id": "05c8ecde-71a6-475c-b168-b6b499d5d3bb",
   "metadata": {},
   "source": [
    "# 1 : Root Finding"
   ]
  },
  {
   "cell_type": "markdown",
   "id": "89861daa-0b00-47c7-a8c4-46676a6be291",
   "metadata": {},
   "source": [
    "## direct computation"
   ]
  },
  {
   "cell_type": "code",
   "execution_count": 66,
   "id": "173622fa-8c02-497c-8f3f-d233a83f2462",
   "metadata": {},
   "outputs": [],
   "source": [
    "rootFind <- function(){\n",
    "    \n",
    "  uu <- runif(1);\n",
    "  #generate n Uniform[0,1] r.v.s  \n",
    "  # p and q found through derivation using trig solution\n",
    "  #using R = 3\n",
    "  p =(-3)*9;\n",
    "  q = (-108)*((1/2)-uu);\n",
    "  z = rootFinder(p,q);\n",
    "    \n",
    "  return(z);\n",
    "      \n",
    "  \n",
    "  \n",
    "}    "
   ]
  },
  {
   "cell_type": "code",
   "execution_count": 7,
   "id": "979eb013-3760-472d-b12b-5738ce1e4f39",
   "metadata": {},
   "outputs": [],
   "source": [
    "f.cdf <- function( x ){\n",
    "    \n",
    "    #let R be 3 for test purposes\n",
    "    R=3\n",
    "    \n",
    "    \n",
    "    return((1/4)*(R^3)*((2*R)-x)*(R+x)^2);\n",
    "    \n",
    "   \n",
    "    \n",
    "  \n",
    "}"
   ]
  },
  {
   "cell_type": "code",
   "execution_count": 15,
   "id": "217bda15-3e6e-4267-9510-d909430bd4ef",
   "metadata": {},
   "outputs": [],
   "source": [
    "rootFinder <- function(p,q){\n",
    "    \n",
    "    #finds roots of cdf according to wikipedia trig root solution\n",
    "    #pick k = 1, return this specific root\n",
    "    \n",
    "    return(2*sqrt(-1*(p)/3)*cos( (1/3)*acos(sqrt(-3/p)*(3*q)/(2*p))-(2*(1)*pi/3) ) );\n",
    "    \n",
    "    \n",
    "    \n",
    "    \n",
    "    \n",
    "}"
   ]
  },
  {
   "cell_type": "code",
   "execution_count": 79,
   "id": "22acf365-c780-4bb5-a5be-6d16fe5c9138",
   "metadata": {},
   "outputs": [
    {
     "data": {
      "text/html": [
       "0.0391326715868717"
      ],
      "text/latex": [
       "0.0391326715868717"
      ],
      "text/markdown": [
       "0.0391326715868717"
      ],
      "text/plain": [
       "[1] 0.03913267"
      ]
     },
     "metadata": {},
     "output_type": "display_data"
    }
   ],
   "source": [
    "rootFind()"
   ]
  },
  {
   "cell_type": "markdown",
   "id": "cb31df22-d0cc-4b7d-a0cf-a217cc519df3",
   "metadata": {},
   "source": [
    "# Newton-Raphson Method"
   ]
  },
  {
   "cell_type": "code",
   "execution_count": 58,
   "id": "fc802234-cb1a-405f-a44b-9ca5ebdde683",
   "metadata": {},
   "outputs": [],
   "source": [
    "#  Newton Raphson\n",
    "##\n",
    "\n",
    "# x0,    starting value\n",
    "# f.cdf, distribution function\n",
    "# f.pdf, density function\n",
    "\n",
    "rootFind.nr <- function(x0=NULL, f.cdf, f.pdf, tol = 1e-4, max.it=100, PrintPath=F ){\n",
    "  uu <- runif(1);\n",
    "  if( is.null(x0) )  # If x0 is not given, set it to be uu\n",
    "    x0 <- uu;\n",
    "  if(PrintPath) \n",
    "    print(paste(\"U =\",uu))\n",
    "  for( ii in 2:max.it ){\n",
    "    x1 <- x0 - ( f.cdf(x0) - uu )/f.pdf(x0);\n",
    "    if(PrintPath){\n",
    "      print(\n",
    "        paste(\n",
    "          x0,x1,abs(x1-x0) < tol\n",
    "        )\n",
    "      )\n",
    "    }\n",
    "    if( abs(x1-x0) < tol )\n",
    "      break;\n",
    "\n",
    "    x0 <- x1;\n",
    "  }\n",
    "  return(x1);\n",
    "}\n",
    "\n",
    "## Same NR Algorithm but saves every point x in the iteration\n",
    "\n",
    "rootFind.nr.path <- function( x0, f.cdf, f.pdf, tol = 1e-4, max.it=100 ){\n",
    "  xx <- rep(0,max.it);\n",
    "  uu <- runif(1);\n",
    "  xx[1] <- x0;\n",
    "  for( ii in 2:max.it ){\n",
    "    xx[ii] <- xx[ii-1] - ( f.cdf(xx[ii-1]) - uu )/f.pdf(xx[ii-1]);\n",
    "    if( abs(xx[ii]-xx[ii-1]) < tol )\n",
    "      break;\n",
    "  }\n",
    "  return( xx );\n",
    "}\n"
   ]
  },
  {
   "cell_type": "code",
   "execution_count": 8,
   "id": "6f430801-4a80-4b23-81ea-c087da7af792",
   "metadata": {},
   "outputs": [],
   "source": [
    "f.pdf <- function( x ){\n",
    "    \n",
    "    #let R be 3 for test purposes\n",
    "    R=3\n",
    "    \n",
    "    \n",
    "    return( (3/4*R^(3))*(R^(2)-(x*x)) );\n",
    "    \n",
    "}"
   ]
  },
  {
   "cell_type": "code",
   "execution_count": 59,
   "id": "9a4ce10a-84b0-421b-86bd-c4b96aa9d223",
   "metadata": {},
   "outputs": [
    {
     "data": {
      "text/html": [
       "-2.87592173555012"
      ],
      "text/latex": [
       "-2.87592173555012"
      ],
      "text/markdown": [
       "-2.87592173555012"
      ],
      "text/plain": [
       "[1] -2.875922"
      ]
     },
     "metadata": {},
     "output_type": "display_data"
    }
   ],
   "source": [
    "rootFind.nr(NULL,f.cdf,f.pdf)"
   ]
  },
  {
   "cell_type": "markdown",
   "id": "479d677c-ba06-4d8a-bff0-feeb7320a74f",
   "metadata": {},
   "source": [
    "# Bisection Algorithm"
   ]
  },
  {
   "cell_type": "code",
   "execution_count": 48,
   "id": "8c8f2dba-f633-4bb8-bab7-51bf0b11ddf7",
   "metadata": {},
   "outputs": [],
   "source": [
    "rootFind.bs <- function( aa, bb, f.cdf, tol = 1e-4, max.it=100, PrintPath=F ){\n",
    "  uu <- runif(1);\n",
    "  if(PrintPath) \n",
    "    print(paste(\"U =\",uu))\n",
    "  for( ii in 2:max.it ){\n",
    "    mid = (bb + aa)/2;\n",
    "    val = f.cdf( mid )-uu;\n",
    "    if( val < 0 ){\n",
    "      aa <- mid;\n",
    "    } else {\n",
    "      bb <- mid;\n",
    "    }\n",
    "    if(PrintPath){\n",
    "      print(\n",
    "        paste(aa,bb,val)\n",
    "      )\n",
    "    }\n",
    "    if( (abs(bb-aa) < tol) | (abs(val) < tol) )\n",
    "      break;\n",
    "  }\n",
    "  return( mid );\n",
    "}"
   ]
  },
  {
   "cell_type": "code",
   "execution_count": 53,
   "id": "bb123d1b-21e6-4256-a3ee-b44fd1abcf1c",
   "metadata": {},
   "outputs": [
    {
     "data": {
      "text/html": [
       "-2.88519287109375"
      ],
      "text/latex": [
       "-2.88519287109375"
      ],
      "text/markdown": [
       "-2.88519287109375"
      ],
      "text/plain": [
       "[1] -2.885193"
      ]
     },
     "metadata": {},
     "output_type": "display_data"
    }
   ],
   "source": [
    "rootFind.bs(-3,3,f.cdf)"
   ]
  },
  {
   "cell_type": "code",
   "execution_count": 81,
   "id": "03aff2fd-5e43-44a4-8b80-cd54901f36d9",
   "metadata": {},
   "outputs": [
    {
     "name": "stdout",
     "output_type": "stream",
     "text": [
      "[1] \"Direct comp time:\"\n"
     ]
    },
    {
     "data": {
      "text/plain": [
       "   user  system elapsed \n",
       "  0.039   0.004   0.042 "
      ]
     },
     "metadata": {},
     "output_type": "display_data"
    },
    {
     "name": "stdout",
     "output_type": "stream",
     "text": [
      "[1] \"Newton Raphson time:\"\n"
     ]
    },
    {
     "data": {
      "text/plain": [
       "   user  system elapsed \n",
       "  0.169   0.000   0.169 "
      ]
     },
     "metadata": {},
     "output_type": "display_data"
    },
    {
     "name": "stdout",
     "output_type": "stream",
     "text": [
      "[1] \"Bisection time:\"\n"
     ]
    },
    {
     "data": {
      "text/plain": [
       "   user  system elapsed \n",
       "  0.237   0.000   0.237 "
      ]
     },
     "metadata": {},
     "output_type": "display_data"
    }
   ],
   "source": [
    "#Time testing for all 3 methods\n",
    "\n",
    "nn=10000\n",
    "\n",
    "DirectComp.time = system.time(\n",
    "    \n",
    "    for (x in (1:nn)) {\n",
    "        tmp1 <- rootFind()\n",
    "    }\n",
    " \n",
    ")\n",
    "\n",
    "NR.time = system.time(\n",
    "    \n",
    "    for (x in (1:nn)) {\n",
    "        tmp2 <- rootFind.nr( NULL,f.cdf,f.pdf )\n",
    "    }\n",
    "  \n",
    ")\n",
    "\n",
    "Bisection.time = system.time(\n",
    "    \n",
    "    for (x in (1:nn)) {\n",
    "        tmp3 <- rootFind.bs( -3,3,f.cdf )\n",
    "    }\n",
    "    \n",
    "    \n",
    ")\n",
    "\n",
    "print('Direct comp time:')\n",
    "DirectComp.time\n",
    "print('Newton Raphson time:')\n",
    "NR.time\n",
    "print('Bisection time:')\n",
    "Bisection.time\n",
    "\n",
    "\n"
   ]
  },
  {
   "cell_type": "markdown",
   "id": "e4af8472-c810-4d18-a9ea-82b4fd04627e",
   "metadata": {},
   "source": [
    "## 2 : Acceptance-Rejection"
   ]
  },
  {
   "cell_type": "markdown",
   "id": "97ce9851-9361-4c57-8f36-39c60891cbaa",
   "metadata": {},
   "source": [
    "# 1 : Beta(1,1):"
   ]
  },
  {
   "cell_type": "code",
   "execution_count": 107,
   "id": "4d7e59e6-6840-491b-8497-a06d7425fe4a",
   "metadata": {},
   "outputs": [
    {
     "data": {
      "image/png": "[encoded data removed]",
      "text/plain": [
       "plot without title"
      ]
     },
     "metadata": {
      "image/png": {
       "height": 420,
       "width": 420
      }
     },
     "output_type": "display_data"
    }
   ],
   "source": [
    "#define range\n",
    "p = seq(0, 1, length=100)\n",
    "\n",
    "#create plot of Beta distribution with shape parameters 2 and 10\n",
    "plot(p, dbeta(p, 1, 1), type='l')"
   ]
  },
  {
   "cell_type": "code",
   "execution_count": 23,
   "id": "b7f5de95-4680-48b7-8a9a-b2465292fe35",
   "metadata": {},
   "outputs": [],
   "source": [
    "## Acceptance-Rejection for f(x)\n",
    "## using beta(1,1)\n",
    "#using R=3\n",
    "\n",
    "ar.beta11 <- function(  max.it = 100 ){\n",
    "  R = 3;\n",
    "  for( ii in 1:max.it ){\n",
    "    bb <- rbeta(1,1,1);\n",
    "    zz <- ((2*R*bb)-R) ;  # Generate Z from h(z)\n",
    "    uu <- runif(1, 0,1 );  # Generate U from Unif[0,1]\n",
    "    if( uu < (1-(zz)^2/9) ) # Accept or Reject\n",
    "      break;\n",
    "  }\n",
    "  return(  # return a list object\n",
    "    list(  \n",
    "      X  = zz, # random variate from f\n",
    "      it = ii  # number of iterates \n",
    "    )\n",
    "  )\n",
    "}\n"
   ]
  },
  {
   "cell_type": "code",
   "execution_count": 31,
   "id": "8bd04cf3-2f0d-49c4-a40c-15e00692b02b",
   "metadata": {},
   "outputs": [
    {
     "name": "stdout",
     "output_type": "stream",
     "text": [
      "[1] \"est mean: 1.4797\"\n",
      "[1] \"est var:  0.70065797579758\"\n"
     ]
    },
    {
     "data": {
      "image/png": "[encoded data removed]",
      "text/plain": [
       "Plot with title “Histogram of it”"
      ]
     },
     "metadata": {
      "image/png": {
       "height": 420,
       "width": 420
      }
     },
     "output_type": "display_data"
    }
   ],
   "source": [
    "## Test ar.beta11 with R=3\n",
    "\n",
    "nn = 10000;\n",
    "xx = rep(0,nn);\n",
    "it = rep(0,nn);\n",
    "\n",
    "\n",
    "\n",
    "artime.2 <- system.time(\n",
    "  for( ii in 1:nn ){\n",
    "    out <- ar.beta11()\n",
    "    xx[ii] <- out$X;\n",
    "    it[ii] <- out$it;\n",
    "  }\n",
    ")\n",
    "\n",
    "\n",
    "print( paste( \"est mean:\", mean( it ) ) )\n",
    "print( paste( \"est var: \", var( it ) ) )\n",
    "\n",
    "\n",
    "# Plot histogram\n",
    "hist(it)\n"
   ]
  },
  {
   "cell_type": "markdown",
   "id": "b4b913c9-8025-451d-8d77-85c1c3f9543d",
   "metadata": {},
   "source": [
    "# 2 : Beta(1/2,1/2)"
   ]
  },
  {
   "cell_type": "code",
   "execution_count": 55,
   "id": "17b3c909-5037-4f76-9563-e9f5e9a348d8",
   "metadata": {},
   "outputs": [],
   "source": [
    "## Acceptance-Rejection for f(x)\n",
    "## using beta(1/2,1/2)\n",
    "#using R=3\n",
    "\n",
    "ar.beta12 <- function(  max.it = 100 ){\n",
    "    \n",
    "  R = 3;\n",
    "  for( ii in 1:max.it ){\n",
    "    bb <- rbeta(1,1/2,1/2);\n",
    "    zz <- (2*R*bb)-R;\n",
    "    uu <- runif(1, 0,1 );  # Generate U from Unif[0,1]\n",
    "    if( ( uu < (1-(zz)^2/9)^(3/2) )  ) # Accept or Reject\n",
    "      break;\n",
    "  }\n",
    "  return(  # return a list object\n",
    "    list(  \n",
    "      X  = zz, # random variate from f\n",
    "      it = ii  # number of iterates \n",
    "    )\n",
    "  )\n",
    "}"
   ]
  },
  {
   "cell_type": "code",
   "execution_count": 56,
   "id": "d6663c6e-2c30-4ac0-8f06-9b7329a54e03",
   "metadata": {},
   "outputs": [
    {
     "name": "stdout",
     "output_type": "stream",
     "text": [
      "[1] \"est mean: 2.3656\"\n",
      "[1] \"est var:  3.2338600260026\"\n"
     ]
    },
    {
     "data": {
      "image/png": "[encoded data removed]",
      "text/plain": [
       "Plot with title “Histogram of it”"
      ]
     },
     "metadata": {
      "image/png": {
       "height": 420,
       "width": 420
      }
     },
     "output_type": "display_data"
    }
   ],
   "source": [
    "## Test ar.beta12 with R=3\n",
    "\n",
    "nn = 10000;\n",
    "xx = rep(0,nn);\n",
    "it = rep(0,nn);\n",
    "\n",
    "\n",
    "\n",
    "artime.2 <- system.time(\n",
    "  for( ii in 1:nn ){\n",
    "    out <- ar.beta12()\n",
    "    xx[ii] <- out$X;\n",
    "    it[ii] <- out$it;\n",
    "  }\n",
    ")\n",
    "\n",
    "\n",
    "print( paste( \"est mean:\", mean( it ) ) )\n",
    "print( paste( \"est var: \", var( it ) ) )\n",
    "\n",
    "\n",
    "# Plot histogram\n",
    "hist(it)\n"
   ]
  },
  {
   "cell_type": "code",
   "execution_count": 1,
   "id": "83385e3b-bd12-4795-9d6b-c2c2fd738843",
   "metadata": {},
   "outputs": [
    {
     "data": {
      "image/png": "[encoded data removed]",
      "text/plain": [
       "plot without title"
      ]
     },
     "metadata": {
      "image/png": {
       "height": 420,
       "width": 420
      }
     },
     "output_type": "display_data"
    }
   ],
   "source": [
    "#define range\n",
    "p = seq(0, 1, length=100)\n",
    "\n",
    "#create plot of Beta distribution with shape parameters 2 and 10\n",
    "plot(p, dbeta(p, 1/2, 1/2), type='l')"
   ]
  },
  {
   "cell_type": "markdown",
   "id": "78929e05-7dd4-4d09-b33c-c2488fb24ff0",
   "metadata": {},
   "source": [
    "# 3 : Beta(3/2,3/2)"
   ]
  },
  {
   "cell_type": "code",
   "execution_count": 53,
   "id": "fcb22cbd-7ec4-427a-ba95-0672d3db86ed",
   "metadata": {},
   "outputs": [],
   "source": [
    "## Acceptance-Rejection for f(x)\n",
    "## using beta(3/2,3/2)\n",
    "#using R=3\n",
    "\n",
    "ar.beta32 <- function(  max.it = 100 ){\n",
    "    \n",
    "  R = 3;\n",
    "  for( ii in 1:max.it ){\n",
    "    bb <- rbeta(1,3/2,3/2);\n",
    "    zz <- (2*R*bb)-R;\n",
    "    uu <- runif(1, 0,1 );  # Generate U from Unif[0,1]\n",
    "    if(  uu < (1-(zz*zz)/9)^(1/2))    # Accept or Reject\n",
    "      break;\n",
    "  }\n",
    "  return(  # return a list object\n",
    "    list(  \n",
    "      X  = zz, # random variate from f\n",
    "      it = ii  # number of iterates \n",
    "    )\n",
    "  )\n",
    "}"
   ]
  },
  {
   "cell_type": "code",
   "execution_count": 52,
   "id": "5cfaf1c8-695f-45df-b7e6-20d7ae743cc0",
   "metadata": {},
   "outputs": [
    {
     "name": "stdout",
     "output_type": "stream",
     "text": [
      "$Z\n",
      "[1] 0.7616134\n",
      "\n",
      "$it\n",
      "[1] 1\n",
      "\n"
     ]
    }
   ],
   "source": [
    "out <- ar.beta32()\n",
    "print(out)"
   ]
  },
  {
   "cell_type": "code",
   "execution_count": 54,
   "id": "5adb84fe-b6ab-4626-9a20-9af4332884c8",
   "metadata": {},
   "outputs": [
    {
     "name": "stdout",
     "output_type": "stream",
     "text": [
      "[1] \"est mean: 1.1817\"\n",
      "[1] \"est var:  0.217306840684068\"\n"
     ]
    },
    {
     "data": {
      "image/png": "[encoded data removed]",
      "text/plain": [
       "Plot with title “Histogram of it”"
      ]
     },
     "metadata": {
      "image/png": {
       "height": 420,
       "width": 420
      }
     },
     "output_type": "display_data"
    }
   ],
   "source": [
    "## Test ar.beta32 with R=3\n",
    "\n",
    "nn = 10000;\n",
    "xx = rep(0,nn);\n",
    "it = rep(0,nn);\n",
    "\n",
    "\n",
    "\n",
    "artime.2 <- system.time(\n",
    "  for( ii in 1:nn ){\n",
    "    out <- ar.beta32()\n",
    "    xx[ii] <- out$X;\n",
    "    it[ii] <- out$it;\n",
    "  }\n",
    ")\n",
    "\n",
    "\n",
    "print( paste( \"est mean:\", mean( it ) ) )\n",
    "print( paste( \"est var: \", var( it ) ) )\n",
    "\n",
    "\n",
    "# Plot histogram\n",
    "hist(it)\n"
   ]
  },
  {
   "cell_type": "code",
   "execution_count": 2,
   "id": "e47f93cf-9461-461c-8585-12faa8942ced",
   "metadata": {},
   "outputs": [
    {
     "data": {
      "image/png": "[encoded data removed]",
      "text/plain": [
       "plot without title"
      ]
     },
     "metadata": {
      "image/png": {
       "height": 420,
       "width": 420
      }
     },
     "output_type": "display_data"
    }
   ],
   "source": [
    "#define range\n",
    "p = seq(0, 1, length=100)\n",
    "\n",
    "#create plot of Beta distribution with shape parameters 2 and 10\n",
    "plot(p, dbeta(p, 3/2, 3/2), type='l')"
   ]
  },
  {
   "cell_type": "code",
   "execution_count": 3,
   "id": "1bbdf16c-0d48-433c-a93e-8d98e6ed8037",
   "metadata": {},
   "outputs": [
    {
     "data": {
      "image/png": "[encoded data removed]",
      "text/plain": [
       "plot without title"
      ]
     },
     "metadata": {
      "image/png": {
       "height": 420,
       "width": 420
      }
     },
     "output_type": "display_data"
    }
   ],
   "source": [
    "#plotting density function with R=3\n",
    "\n",
    "\n",
    "eq = function(x){3/(4*27)*(9-x^2)}\n",
    "curve(eq, from=1, to=50, xlab=\"x\", ylab=\"y\")"
   ]
  },
  {
   "cell_type": "markdown",
   "id": "720bd9c0-0ce5-4cea-991b-4901f06420d4",
   "metadata": {},
   "source": [
    "Just by plotting we can tell that using beta(3/2,3/2) will probably be the best h function to simulate our pdf f."
   ]
  }
 ],
 "metadata": {
  "kernelspec": {
   "display_name": "R",
   "language": "R",
   "name": "ir"
  },
  "language_info": {
   "codemirror_mode": "r",
   "file_extension": ".r",
   "mimetype": "text/x-r-source",
   "name": "R",
   "pygments_lexer": "r",
   "version": "4.1.3"
  }
 },
 "nbformat": 4,
 "nbformat_minor": 5
}
